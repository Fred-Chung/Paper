{
 "cells": [
  {
   "cell_type": "code",
   "execution_count": 1,
   "metadata": {},
   "outputs": [],
   "source": [
    "import pandas as pd\n",
    "import numpy as np\n",
    "import seaborn as sns\n",
    "import scipy.stats as sts\n",
    "from scipy.special import gamma\n",
    "import matplotlib.pyplot as plt"
   ]
  },
  {
   "cell_type": "code",
   "execution_count": 2,
   "metadata": {},
   "outputs": [
    {
     "name": "stdout",
     "output_type": "stream",
     "text": [
      "12419 199\n"
     ]
    }
   ],
   "source": [
    "data = np.load('lda.npz')\n",
    "data_train = data['train']\n",
    "data_test = data['test']\n",
    "\n",
    "data_train = data_train[data_train[:,0]<200]\n",
    "data_test = data_train[data_train[:,0]<50]\n",
    "\n",
    "data_train[:,0] = data_train[:,0]-1\n",
    "data_test[:,0] = data_test[:,0]-1\n",
    "data_train[:,1] = data_train[:,1]-1\n",
    "data_test[:,1] = data_test[:,1]-1\n",
    "\n",
    "voc = max(data_train[:,1])+1\n",
    "doc = max(data_train[:,0])+1\n",
    "k = 10\n",
    "print (voc,doc)"
   ]
  },
  {
   "cell_type": "code",
   "execution_count": 3,
   "metadata": {},
   "outputs": [],
   "source": [
    "class PFA():\n",
    "    def __init__(self,voc,doc,data_train,data_test,eta=0.5,c=1,c0=1,r0=1,gamma=1,alpha=0.05,eps=0.05,k=10):\n",
    "        #initialization\n",
    "        #hyperparameter\n",
    "        self.eta = 0.5\n",
    "        self.c = 1\n",
    "        self.c0 = 1\n",
    "        self.r0 = 1\n",
    "        self.gamma = 1\n",
    "        self.alpha = 0.05\n",
    "        self.eps = 0.05\n",
    "        \n",
    "        #number of document,word type,topic\n",
    "        self.topic_num = 10 #主题数量\n",
    "        self.voc_num = voc #词汇数\n",
    "        self.doc_num = doc #文档数\n",
    "        \n",
    "        #gengerative process sample\n",
    "        self.phi = sts.dirichlet.rvs([self.alpha]*self.voc,size = self.k)  #Topic-word matrix  (voc * k matrix)\n",
    "        self.pk = sts.beta.rvs(self.c*self.eps,self.c*(1-self.eps),size =self.k) # pk 的分布 1*k matrix\n",
    "        self.rk = sts.gamma.rvs(self.c0*self.r0,scale=1/self.c0,size=self.k) #rk 1*k matrix\n",
    "        self.ki = np.array([sts.gamma.rvs(self.rk,scale = self.pk/(1-self.pk)) for i in range(self.doc)]) # doc * k matrix\n",
    "        \n",
    "        #sampling count\n",
    "        self.xik = np.zeros((self.doc,self.k)) #第i个主题第k个topic\n",
    "        self.xpk = np.zeros((self.voc,self.k)) #第k个主题第p个词的数量\n",
    "        self.xk = np.zeros((self.k))           #第k个topic的数量\n",
    "        self.xi = np.zeros((self.doc))         #第i个文档的数量\n",
    "        \n",
    "        self.per_plot = []\n",
    "        \n",
    "        self.data_test = data_test\n",
    "        self.data_train = data_train\n",
    "        \n",
    "    def sampler(self):\n",
    "        #1.Count assignment\n",
    "        for doc_word_count in self.data_train:\n",
    "            \n",
    "            doc_index,word_index,word_count = doc_word_count #[0,7,2]\n",
    "            \n",
    "            prob =   self.phi[:,word_index] * self.ki[doc_index] # 单词在每个主题的概率 * 该文档每个主题的概率\n",
    "            prob/=sum(prob+0.01) \n",
    "            res = sts.multinomial.rvs(word_count,p=prob)\n",
    "                \n",
    "            self.xik[doc_index] += res   #第i个文档第k个topic的数量\n",
    "            self.xpk[word_index] += res          #第k个主题第p个词的数量\n",
    "            self.xk += res                       #第k个topic的数量\n",
    "            self.xi[doc_index] += word_count     #第i个文档的数量\n",
    "        \n",
    "        #更新topic-doc  matrix,就是我们要替换的部分\n",
    "        for topic_index in range(self.k):\n",
    "            self.phi[topic_index] = sts.dirichlet.rvs([self.alpha]*self.voc + self.xpk[:,topic_index])\n",
    "            \n",
    "        #更新pk    \n",
    "        for topic_index in range(self.k):   \n",
    "            self.pk[topic_index] = sts.beta.rvs(self.c * self.eps + self.xk[topic_index] ,self.c *(1- self.eps)+ self.doc *  self.rk[topic_index] )\n",
    "        \n",
    "        #sample rk\n",
    "        for topic_index in range(self.k):    \n",
    "            if self.xk[topic_index] == 0: #当xk=0,负二项分布退化为伯努利分布\n",
    "                self.rk[topic_index] = sts.gamma.rvs(self.c0 * self.r0 , scale = 1/(self.c0 - self.doc * np.log(1- self.pk[topic_index])))\n",
    "            else:\n",
    "                self.rk[topic_index] = sts.gamma.rvs(self.c0 * self.r0 + np.sum(self.CRT(topic_index)),scale = 1/(self.c0 - self.doc * np.log(1- self.pk[topic_index])))\n",
    "        \n",
    "        # sample self.ki\n",
    "        for topic_index in range(self.k): \n",
    "            self.ki = sts.gamma(self.xik + self.rk,self.pk).rvs()\n",
    "     \n",
    "    def compute_perplexity(self):\n",
    "        phi_theta = np.array([np.sum(self.phi * self.ki[doc_index].reshape(-1,1),0) for doc_index in range(self.doc)])\n",
    "        phi_theta = phi_theta/np.sum(phi_theta,1).reshape(-1,1)            \n",
    "        mat = np.zeros((self.doc,self.voc)) \n",
    "        for index in self.data_test:#Convert sparse to normal matrix\n",
    "            mat[index[0],index[1]] = index[-1]    \n",
    "        per = np.sum(mat * np.log(phi_theta))\n",
    "        res = np.exp(- per/np.sum(self.data_test[:,-1]))\n",
    "        print (res)\n",
    "        self.per_plot.append(res)\n",
    "        return res\n",
    "    \n",
    "    def CRT(self,topic): #CRT \n",
    "        res = np.array([sum([sts.bernoulli.rvs(self.pk[topic]/(i-1+self.pk[topic])) for i in np.linspace(1,self.xik[d][topic],int(self.xik[d][topic]))]) for d in range(self.doc)])\n",
    "        return res\n",
    "    \n",
    "    \n",
    "    def demo(self,iteration):\n",
    "        for it in range(iteration):  \n",
    "            print ('Begin {}th iterations'.format(it))\n",
    "            self.sampler()\n",
    "            self.compute_perplexity()\n",
    "            \n",
    "        sns.set()\n",
    "        plt.plot(self.per_plot)\n",
    "        plt.xlabel('Iteration')\n",
    "        plt.ylabel('Perplexity')\n",
    "        plt.show()\n",
    "        return self.perplot\n",
    "            "
   ]
  },
  {
   "cell_type": "code",
   "execution_count": 7,
   "metadata": {},
   "outputs": [],
   "source": [
    "#model = PFA(voc=voc,doc=doc,data_train=data_train,data_test = data_test,k=k)\n",
    "#model.demo(20)\n",
    "mm = PFA(voc=voc,doc=doc,data_train=data_train,data_test = data_test,k=k)\n",
    "mm.sampler()\n",
    "xvk = mm.xpk"
   ]
  },
  {
   "cell_type": "code",
   "execution_count": 80,
   "metadata": {},
   "outputs": [],
   "source": [
    "class Dir_BN():\n",
    "    def __init__(self,xvk,doc):\n",
    "        self.doc = doc\n",
    "        self.voc ,self.k = xvk.shape\n",
    "        \n",
    "        #Hyperparameter\n",
    "        self.a0 = 1\n",
    "        self.b0 = 1\n",
    "        self.g0 = 1\n",
    "        self.h0 = 1\n",
    "        self.e0 = 0.01\n",
    "        self.f0 = 0.01\n",
    "        \n",
    "        self.eta = 0.05\n",
    "        self.t =3\n",
    "        \n",
    "        #Basic latent variable\n",
    "        self.psi = np.zeros((self.t,self.voc,self.k))\n",
    "        self.phi = np.zeros((self.t,self.voc,self.k))\n",
    "        self.beta = 0.5 * np.ones((self.t-1,self.k,self.k))\n",
    "        self.beta_gammak = 0.1 * np.ones((self.t-1,self.k))\n",
    "        self.beta_c = 0.1 * np.ones((self.t-1))\n",
    "        self.beta_gamma0 = 0.1 * np.ones((self.t-1))\n",
    "        self.beta_c0 = 0.1 * np.ones((self.t-1))\n",
    "        \n",
    "        #Propagate variable\n",
    "        self.yvk = np.zeros((self.t,self.voc,self.k))\n",
    "        self.xvk = np.zeros((self.t,self.voc,self.k))\n",
    "        self.xvk[0] = xvk\n",
    "        \n",
    "        for layer in range(self.t):\n",
    "            self.psi[layer] = self.eta * np.ones((self.voc,self.k))\n",
    "            self.phi[layer] = sts.gamma.rvs(self.psi[layer])\n",
    "            self.phi[layer] /= np.sum(self.phi[layer],0)\n",
    "    \n",
    "    def propa_sample(self):\n",
    "        #propagate\n",
    "        for layer in range(self.t):\n",
    "            if layer < self.t-1:\n",
    "                for v in range(self.voc):\n",
    "                    for k in range(self.k):\n",
    "                        self.yvk[layer][v][k] = self.CRT(self.xvk[layer][v][k],self.psi[layer][v][k])\n",
    "                self.xvk[layer+1] = self.latent_count(self.yvk,self.phi,self.beta,layer)         \n",
    "        \n",
    "        ## top down\n",
    "        for layer in np.arange(self.t-1,-1,-1):\n",
    "            layer = int(layer)\n",
    "            \n",
    "            # update psi\n",
    "            if layer == self.t-1:\n",
    "                psi = self.sample_eta(self.xvk[layer],self.psi[layer])\n",
    "                self.psi[layer] = psi * np.ones((self.voc,self.k))\n",
    "            else:\n",
    "                self.psi[layer] = np.array([np.sum(self.phi[layer+1] * model.beta[layer][k,:],1) for  k in range(self.k)]).T\n",
    "        \n",
    "            #update beta_parameter\n",
    "            if layer >0:\n",
    "                qk =  sts.beta.rvs(np.sum(self.psi[layer],0),np.sum(model.xvk[layer],0))\n",
    "                \n",
    "            \n",
    "            \n",
    "            \n",
    "            # update phi\n",
    "            self.phi[layer] = np.array([sts.dirichlet((self.psi[layer] + self.xvk[layer])[:,k_index]).rvs().reshape(-1,) for k_index in range(self.k)]).T\n",
    "            \n",
    "        \n",
    "    def CRT(self,x,y):\n",
    "        res = 0\n",
    "        if x >0:\n",
    "            if x==1:\n",
    "                res = 1\n",
    "            else:\n",
    "                for n in range(int(x)):\n",
    "                    res+= (sts.uniform.rvs()< y/(n-1+y))\n",
    "        return res\n",
    "    \n",
    "    def latent_count(self,yvk,phi,beta,layer):\n",
    "        rr = np.zeros((self.voc,self.k))\n",
    "        for i in range(self.k):\n",
    "            data = yvk[layer][:,i]\n",
    "            pval = self.phi[layer] * self.beta[layer][i,:]\n",
    "            pval = pval/np.sum(pval,1).reshape(-1,1)\n",
    "            res = np.array([sts.multinomial.rvs(a,b) for a,b in zip(data,pval)])\n",
    "            rr += res\n",
    "        return rr\n",
    "    \n",
    "    def sample_eta(self,xvk,psi):\n",
    "        log_p = sum(np.log(sts.beta.rvs(np.sum(psi,0),np.sum(xvk,0))))     \n",
    "        svk = 0\n",
    "        for v in range(self.voc):\n",
    "            for k in range(self.k):\n",
    "                svk+=self.CRT(xvk[v][k],psi[v][k])\n",
    "        eta = sts.gamma.rvs(0.1+ svk,1)/(10-self.voc*log_p)\n",
    "        return eta"
   ]
  },
  {
   "cell_type": "code",
   "execution_count": 81,
   "metadata": {},
   "outputs": [],
   "source": [
    "model = Dir_BN(xvk)"
   ]
  },
  {
   "cell_type": "code",
   "execution_count": 82,
   "metadata": {
    "collapsed": true
   },
   "outputs": [
    {
     "ename": "ValueError",
     "evalue": "All parameters must be greater than 0",
     "output_type": "error",
     "traceback": [
      "\u001b[1;31m---------------------------------------------------------------------------\u001b[0m",
      "\u001b[1;31mValueError\u001b[0m                                Traceback (most recent call last)",
      "\u001b[1;32m<ipython-input-82-d39071dec7b0>\u001b[0m in \u001b[0;36m<module>\u001b[1;34m()\u001b[0m\n\u001b[1;32m----> 1\u001b[1;33m \u001b[0mmodel\u001b[0m\u001b[1;33m.\u001b[0m\u001b[0mpropa_sample\u001b[0m\u001b[1;33m(\u001b[0m\u001b[1;33m)\u001b[0m\u001b[1;33m\u001b[0m\u001b[0m\n\u001b[0m",
      "\u001b[1;32m<ipython-input-80-e0d4ebab230c>\u001b[0m in \u001b[0;36mpropa_sample\u001b[1;34m(self)\u001b[0m\n\u001b[0;32m     62\u001b[0m \u001b[1;33m\u001b[0m\u001b[0m\n\u001b[0;32m     63\u001b[0m             \u001b[1;31m# update phi\u001b[0m\u001b[1;33m\u001b[0m\u001b[1;33m\u001b[0m\u001b[0m\n\u001b[1;32m---> 64\u001b[1;33m             \u001b[0mself\u001b[0m\u001b[1;33m.\u001b[0m\u001b[0mphi\u001b[0m\u001b[1;33m[\u001b[0m\u001b[0mlayer\u001b[0m\u001b[1;33m]\u001b[0m \u001b[1;33m=\u001b[0m \u001b[0mnp\u001b[0m\u001b[1;33m.\u001b[0m\u001b[0marray\u001b[0m\u001b[1;33m(\u001b[0m\u001b[1;33m[\u001b[0m\u001b[0msts\u001b[0m\u001b[1;33m.\u001b[0m\u001b[0mdirichlet\u001b[0m\u001b[1;33m(\u001b[0m\u001b[1;33m(\u001b[0m\u001b[0mself\u001b[0m\u001b[1;33m.\u001b[0m\u001b[0mpsi\u001b[0m\u001b[1;33m[\u001b[0m\u001b[0mlayer\u001b[0m\u001b[1;33m]\u001b[0m \u001b[1;33m+\u001b[0m \u001b[0mself\u001b[0m\u001b[1;33m.\u001b[0m\u001b[0mxvk\u001b[0m\u001b[1;33m[\u001b[0m\u001b[0mlayer\u001b[0m\u001b[1;33m]\u001b[0m\u001b[1;33m)\u001b[0m\u001b[1;33m[\u001b[0m\u001b[1;33m:\u001b[0m\u001b[1;33m,\u001b[0m\u001b[0mk_index\u001b[0m\u001b[1;33m]\u001b[0m\u001b[1;33m)\u001b[0m\u001b[1;33m.\u001b[0m\u001b[0mrvs\u001b[0m\u001b[1;33m(\u001b[0m\u001b[1;33m)\u001b[0m\u001b[1;33m.\u001b[0m\u001b[0mreshape\u001b[0m\u001b[1;33m(\u001b[0m\u001b[1;33m-\u001b[0m\u001b[1;36m1\u001b[0m\u001b[1;33m,\u001b[0m\u001b[1;33m)\u001b[0m \u001b[1;32mfor\u001b[0m \u001b[0mk_index\u001b[0m \u001b[1;32min\u001b[0m \u001b[0mrange\u001b[0m\u001b[1;33m(\u001b[0m\u001b[0mself\u001b[0m\u001b[1;33m.\u001b[0m\u001b[0mk\u001b[0m\u001b[1;33m)\u001b[0m\u001b[1;33m]\u001b[0m\u001b[1;33m)\u001b[0m\u001b[1;33m.\u001b[0m\u001b[0mT\u001b[0m\u001b[1;33m\u001b[0m\u001b[0m\n\u001b[0m\u001b[0;32m     65\u001b[0m \u001b[1;33m\u001b[0m\u001b[0m\n\u001b[0;32m     66\u001b[0m \u001b[1;33m\u001b[0m\u001b[0m\n",
      "\u001b[1;32m<ipython-input-80-e0d4ebab230c>\u001b[0m in \u001b[0;36m<listcomp>\u001b[1;34m(.0)\u001b[0m\n\u001b[0;32m     62\u001b[0m \u001b[1;33m\u001b[0m\u001b[0m\n\u001b[0;32m     63\u001b[0m             \u001b[1;31m# update phi\u001b[0m\u001b[1;33m\u001b[0m\u001b[1;33m\u001b[0m\u001b[0m\n\u001b[1;32m---> 64\u001b[1;33m             \u001b[0mself\u001b[0m\u001b[1;33m.\u001b[0m\u001b[0mphi\u001b[0m\u001b[1;33m[\u001b[0m\u001b[0mlayer\u001b[0m\u001b[1;33m]\u001b[0m \u001b[1;33m=\u001b[0m \u001b[0mnp\u001b[0m\u001b[1;33m.\u001b[0m\u001b[0marray\u001b[0m\u001b[1;33m(\u001b[0m\u001b[1;33m[\u001b[0m\u001b[0msts\u001b[0m\u001b[1;33m.\u001b[0m\u001b[0mdirichlet\u001b[0m\u001b[1;33m(\u001b[0m\u001b[1;33m(\u001b[0m\u001b[0mself\u001b[0m\u001b[1;33m.\u001b[0m\u001b[0mpsi\u001b[0m\u001b[1;33m[\u001b[0m\u001b[0mlayer\u001b[0m\u001b[1;33m]\u001b[0m \u001b[1;33m+\u001b[0m \u001b[0mself\u001b[0m\u001b[1;33m.\u001b[0m\u001b[0mxvk\u001b[0m\u001b[1;33m[\u001b[0m\u001b[0mlayer\u001b[0m\u001b[1;33m]\u001b[0m\u001b[1;33m)\u001b[0m\u001b[1;33m[\u001b[0m\u001b[1;33m:\u001b[0m\u001b[1;33m,\u001b[0m\u001b[0mk_index\u001b[0m\u001b[1;33m]\u001b[0m\u001b[1;33m)\u001b[0m\u001b[1;33m.\u001b[0m\u001b[0mrvs\u001b[0m\u001b[1;33m(\u001b[0m\u001b[1;33m)\u001b[0m\u001b[1;33m.\u001b[0m\u001b[0mreshape\u001b[0m\u001b[1;33m(\u001b[0m\u001b[1;33m-\u001b[0m\u001b[1;36m1\u001b[0m\u001b[1;33m,\u001b[0m\u001b[1;33m)\u001b[0m \u001b[1;32mfor\u001b[0m \u001b[0mk_index\u001b[0m \u001b[1;32min\u001b[0m \u001b[0mrange\u001b[0m\u001b[1;33m(\u001b[0m\u001b[0mself\u001b[0m\u001b[1;33m.\u001b[0m\u001b[0mk\u001b[0m\u001b[1;33m)\u001b[0m\u001b[1;33m]\u001b[0m\u001b[1;33m)\u001b[0m\u001b[1;33m.\u001b[0m\u001b[0mT\u001b[0m\u001b[1;33m\u001b[0m\u001b[0m\n\u001b[0m\u001b[0;32m     65\u001b[0m \u001b[1;33m\u001b[0m\u001b[0m\n\u001b[0;32m     66\u001b[0m \u001b[1;33m\u001b[0m\u001b[0m\n",
      "\u001b[1;32m~\\Anaconda3\\lib\\site-packages\\scipy\\stats\\_multivariate.py\u001b[0m in \u001b[0;36m__call__\u001b[1;34m(self, alpha, seed)\u001b[0m\n\u001b[0;32m   1410\u001b[0m \u001b[1;33m\u001b[0m\u001b[0m\n\u001b[0;32m   1411\u001b[0m     \u001b[1;32mdef\u001b[0m \u001b[0m__call__\u001b[0m\u001b[1;33m(\u001b[0m\u001b[0mself\u001b[0m\u001b[1;33m,\u001b[0m \u001b[0malpha\u001b[0m\u001b[1;33m,\u001b[0m \u001b[0mseed\u001b[0m\u001b[1;33m=\u001b[0m\u001b[1;32mNone\u001b[0m\u001b[1;33m)\u001b[0m\u001b[1;33m:\u001b[0m\u001b[1;33m\u001b[0m\u001b[0m\n\u001b[1;32m-> 1412\u001b[1;33m         \u001b[1;32mreturn\u001b[0m \u001b[0mdirichlet_frozen\u001b[0m\u001b[1;33m(\u001b[0m\u001b[0malpha\u001b[0m\u001b[1;33m,\u001b[0m \u001b[0mseed\u001b[0m\u001b[1;33m=\u001b[0m\u001b[0mseed\u001b[0m\u001b[1;33m)\u001b[0m\u001b[1;33m\u001b[0m\u001b[0m\n\u001b[0m\u001b[0;32m   1413\u001b[0m \u001b[1;33m\u001b[0m\u001b[0m\n\u001b[0;32m   1414\u001b[0m     \u001b[1;32mdef\u001b[0m \u001b[0m_logpdf\u001b[0m\u001b[1;33m(\u001b[0m\u001b[0mself\u001b[0m\u001b[1;33m,\u001b[0m \u001b[0mx\u001b[0m\u001b[1;33m,\u001b[0m \u001b[0malpha\u001b[0m\u001b[1;33m)\u001b[0m\u001b[1;33m:\u001b[0m\u001b[1;33m\u001b[0m\u001b[0m\n",
      "\u001b[1;32m~\\Anaconda3\\lib\\site-packages\\scipy\\stats\\_multivariate.py\u001b[0m in \u001b[0;36m__init__\u001b[1;34m(self, alpha, seed)\u001b[0m\n\u001b[0;32m   1567\u001b[0m \u001b[1;32mclass\u001b[0m \u001b[0mdirichlet_frozen\u001b[0m\u001b[1;33m(\u001b[0m\u001b[0mmulti_rv_frozen\u001b[0m\u001b[1;33m)\u001b[0m\u001b[1;33m:\u001b[0m\u001b[1;33m\u001b[0m\u001b[0m\n\u001b[0;32m   1568\u001b[0m     \u001b[1;32mdef\u001b[0m \u001b[0m__init__\u001b[0m\u001b[1;33m(\u001b[0m\u001b[0mself\u001b[0m\u001b[1;33m,\u001b[0m \u001b[0malpha\u001b[0m\u001b[1;33m,\u001b[0m \u001b[0mseed\u001b[0m\u001b[1;33m=\u001b[0m\u001b[1;32mNone\u001b[0m\u001b[1;33m)\u001b[0m\u001b[1;33m:\u001b[0m\u001b[1;33m\u001b[0m\u001b[0m\n\u001b[1;32m-> 1569\u001b[1;33m         \u001b[0mself\u001b[0m\u001b[1;33m.\u001b[0m\u001b[0malpha\u001b[0m \u001b[1;33m=\u001b[0m \u001b[0m_dirichlet_check_parameters\u001b[0m\u001b[1;33m(\u001b[0m\u001b[0malpha\u001b[0m\u001b[1;33m)\u001b[0m\u001b[1;33m\u001b[0m\u001b[0m\n\u001b[0m\u001b[0;32m   1570\u001b[0m         \u001b[0mself\u001b[0m\u001b[1;33m.\u001b[0m\u001b[0m_dist\u001b[0m \u001b[1;33m=\u001b[0m \u001b[0mdirichlet_gen\u001b[0m\u001b[1;33m(\u001b[0m\u001b[0mseed\u001b[0m\u001b[1;33m)\u001b[0m\u001b[1;33m\u001b[0m\u001b[0m\n\u001b[0;32m   1571\u001b[0m \u001b[1;33m\u001b[0m\u001b[0m\n",
      "\u001b[1;32m~\\Anaconda3\\lib\\site-packages\\scipy\\stats\\_multivariate.py\u001b[0m in \u001b[0;36m_dirichlet_check_parameters\u001b[1;34m(alpha)\u001b[0m\n\u001b[0;32m   1227\u001b[0m     \u001b[0malpha\u001b[0m \u001b[1;33m=\u001b[0m \u001b[0mnp\u001b[0m\u001b[1;33m.\u001b[0m\u001b[0masarray\u001b[0m\u001b[1;33m(\u001b[0m\u001b[0malpha\u001b[0m\u001b[1;33m)\u001b[0m\u001b[1;33m\u001b[0m\u001b[0m\n\u001b[0;32m   1228\u001b[0m     \u001b[1;32mif\u001b[0m \u001b[0mnp\u001b[0m\u001b[1;33m.\u001b[0m\u001b[0mmin\u001b[0m\u001b[1;33m(\u001b[0m\u001b[0malpha\u001b[0m\u001b[1;33m)\u001b[0m \u001b[1;33m<=\u001b[0m \u001b[1;36m0\u001b[0m\u001b[1;33m:\u001b[0m\u001b[1;33m\u001b[0m\u001b[0m\n\u001b[1;32m-> 1229\u001b[1;33m         \u001b[1;32mraise\u001b[0m \u001b[0mValueError\u001b[0m\u001b[1;33m(\u001b[0m\u001b[1;34m\"All parameters must be greater than 0\"\u001b[0m\u001b[1;33m)\u001b[0m\u001b[1;33m\u001b[0m\u001b[0m\n\u001b[0m\u001b[0;32m   1230\u001b[0m     \u001b[1;32melif\u001b[0m \u001b[0malpha\u001b[0m\u001b[1;33m.\u001b[0m\u001b[0mndim\u001b[0m \u001b[1;33m!=\u001b[0m \u001b[1;36m1\u001b[0m\u001b[1;33m:\u001b[0m\u001b[1;33m\u001b[0m\u001b[0m\n\u001b[0;32m   1231\u001b[0m         raise ValueError(\"Parameter vector 'a' must be one dimensional, \"\n",
      "\u001b[1;31mValueError\u001b[0m: All parameters must be greater than 0"
     ]
    }
   ],
   "source": [
    "model.propa_sample()"
   ]
  },
  {
   "cell_type": "code",
   "execution_count": 99,
   "metadata": {},
   "outputs": [
    {
     "data": {
      "text/plain": [
       "array([970.03401685, 970.03401685, 970.03401685, 970.03401685,\n",
       "       970.03401685, 970.03401685, 970.03401685, 970.03401685,\n",
       "       970.03401685, 970.03401685])"
      ]
     },
     "execution_count": 99,
     "metadata": {},
     "output_type": "execute_result"
    }
   ],
   "source": [
    "np.sum(model.psi[-1],0)"
   ]
  },
  {
   "cell_type": "code",
   "execution_count": 102,
   "metadata": {},
   "outputs": [
    {
     "data": {
      "text/plain": [
       "(12419, 10)"
      ]
     },
     "execution_count": 102,
     "metadata": {},
     "output_type": "execute_result"
    }
   ],
   "source": []
  },
  {
   "cell_type": "code",
   "execution_count": 103,
   "metadata": {},
   "outputs": [
    {
     "data": {
      "text/plain": [
       "(12419, 10)"
      ]
     },
     "execution_count": 103,
     "metadata": {},
     "output_type": "execute_result"
    }
   ],
   "source": [
    "xvk.shape"
   ]
  },
  {
   "cell_type": "code",
   "execution_count": null,
   "metadata": {},
   "outputs": [],
   "source": []
  }
 ],
 "metadata": {
  "kernelspec": {
   "display_name": "Python 3",
   "language": "python",
   "name": "python3"
  },
  "language_info": {
   "codemirror_mode": {
    "name": "ipython",
    "version": 3
   },
   "file_extension": ".py",
   "mimetype": "text/x-python",
   "name": "python",
   "nbconvert_exporter": "python",
   "pygments_lexer": "ipython3",
   "version": "3.6.4"
  }
 },
 "nbformat": 4,
 "nbformat_minor": 2
}