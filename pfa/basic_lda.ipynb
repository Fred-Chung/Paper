{
 "cells": [
  {
   "cell_type": "code",
   "execution_count": 1,
   "metadata": {},
   "outputs": [
    {
     "name": "stderr",
     "output_type": "stream",
     "text": [
      "C:\\Users\\user\\Anaconda3\\lib\\site-packages\\h5py\\__init__.py:36: FutureWarning: Conversion of the second argument of issubdtype from `float` to `np.floating` is deprecated. In future, it will be treated as `np.float64 == np.dtype(float).type`.\n",
      "  from ._conv import register_converters as _register_converters\n",
      "Using TensorFlow backend.\n"
     ]
    }
   ],
   "source": [
    "import pandas as pd\n",
    "import numpy as np\n",
    "import matplotlib.pyplot as plt\n",
    "import seaborn as sns\n",
    "import scipy.stats as sts\n",
    "from sklearn.feature_extraction.text import CountVectorizer\n",
    "from keras.preprocessing.sequence import pad_sequences\n",
    "from collections import defaultdict\n",
    "from collections import Counter\n",
    "import keras \n"
   ]
  },
  {
   "cell_type": "markdown",
   "metadata": {},
   "source": [
    "### 1. Word vectorizer"
   ]
  },
  {
   "cell_type": "code",
   "execution_count": 2,
   "metadata": {},
   "outputs": [],
   "source": [
    "# corpus = pd.read_table('data.txt')[:1000]\n",
    "# corpus = [i.split() for i in corpus['10768'].values]\n",
    "# bag = [[0 for _ in range(len(i))] for i in corpus]\n",
    "# word_dict = {}\n",
    "# i = 0\n",
    "# for doc_num in range(len(corpus)):\n",
    "#     for word_index in range(len(corpus[doc_num])):\n",
    "#         word = corpus[doc_num][word_index]\n",
    "#         if word in word_dict:\n",
    "#             bag[doc_num][word_index] = word_dict[word]\n",
    "#         else:            \n",
    "#             word_dict[word] = i\n",
    "#             bag[doc_num][word_index] = word_dict[word]\n",
    "#             i+=1\n",
    "       "
   ]
  },
  {
   "cell_type": "code",
   "execution_count": 3,
   "metadata": {},
   "outputs": [],
   "source": [
    "data = np.load('lda.npz')\n",
    "data_train = data['train']\n",
    "data_test = data['test']\n",
    "data_train[:,0] = data_train[:,0]-1\n",
    "data_test[:,0] = data_test[:,0]-1\n",
    "# def preprocess(data_train):\n",
    "#     text = [[] for _ in range(max(data_train[:,0])+1)]\n",
    "#     for doc in data_train:\n",
    "#         doc_index = doc[0]\n",
    "#         word_index = doc[1]\n",
    "#         num = doc[2]\n",
    "#         while num>0:\n",
    "#             text[doc_index].append(word_index)\n",
    "#             num-=1\n",
    "#     return text\n",
    "# bag = preprocess(data_train)"
   ]
  },
  {
   "cell_type": "code",
   "execution_count": 4,
   "metadata": {},
   "outputs": [],
   "source": [
    "res = []\n",
    "for vec in data_train:\n",
    "    if vec[-1] ==1:\n",
    "        res.append(vec)\n",
    "    else:\n",
    "        new_vec = vec.copy()\n",
    "        new_vec[-1]=1\n",
    "        for _ in range(vec[-1]):\n",
    "            res.append(new_vec)\n",
    "            "
   ]
  },
  {
   "cell_type": "code",
   "execution_count": 6,
   "metadata": {},
   "outputs": [],
   "source": [
    "np.save('lda_processed',res)\n"
   ]
  },
  {
   "cell_type": "markdown",
   "metadata": {},
   "source": [
    "## 1.Initialization\n",
    "\n",
    "*  Cluster number  $k$\n",
    "* hyperparameter for two dirichlet conjugate $\\alpha,\\beta$\n",
    "* The number of unique word **top_words_num**\n",
    "* The number of document $n$\n",
    "* nw 词在各topic的数量\n",
    "* nwsum 每个topic词的总数\n",
    "* nd 每个doc中topic的总数\n",
    "* ndsum 每个doc中词的总数\n"
   ]
  },
  {
   "cell_type": "code",
   "execution_count": 7,
   "metadata": {},
   "outputs": [],
   "source": [
    "k = 10\n",
    "alpha = 1\n",
    "beta = 1\n",
    "top_words_num = max(data_train[:,1])+1\n",
    "n = len(bag)\n",
    "\n",
    "nw = np.zeros((top_words_num,k))\n",
    "nwsum = np.zeros(k)\n",
    "nd = np.zeros((n,k))\n",
    "\n",
    "ndsum = np.zeros(n)\n",
    "\n",
    "z = [[[0] for _ in range(len(l))] for l in bag] #topic for evary word in doc\n",
    "\n",
    "for i in range(n):\n",
    "    ndsum[i] = len(bag[i])\n",
    "    for j in range(len(bag[i])):\n",
    "        topic = np.random.randint(k)\n",
    "        z[i][j] = topic\n",
    "        nw[bag[i][j]][topic]+=1 \n",
    "        nd[i][topic]+=1\n",
    "        nwsum[topic]+=1\n",
    "p = []"
   ]
  },
  {
   "cell_type": "code",
   "execution_count": 149,
   "metadata": {},
   "outputs": [],
   "source": [
    "#超参数\n",
    "k = 10\n",
    "alpha = 1\n",
    "beta = 1\n",
    "top_words_num = max(data_train[:,1])+1\n",
    "n = len(bag)\n",
    "\n",
    "#变成word_num都是1\n",
    "res = []\n",
    "for vec in data_train:\n",
    "    if vec[-1] ==1:\n",
    "        res.append(vec)\n",
    "    else:\n",
    "        new_vec = vec.copy()\n",
    "        new_vec[-1]=1\n",
    "        for _ in range(vec[-1]):\n",
    "            res.append(new_vec)\n",
    "\n",
    "#初始化\n",
    "doc_word_sum = np.zeros(n)\n",
    "topic_word_sum = np.zeros(k)\n",
    "doc_topic_count = np.zeros((n,k))\n",
    "word_topic_count = np.zeros((top_words_num,k))\n",
    "topic_att = []\n",
    "for doc_idx,word_idx,word_num in res:\n",
    "    topic = np.random.randint(0,k,1)[0] #随机初始化主题\n",
    "    topic_att.append(topic)\n",
    "    \n",
    "    doc_word_sum[doc_idx]+=word_num #文档数量加上单词数量\n",
    "    topic_word_sum[topic]+=word_num \n",
    "    \n",
    "    doc_topic_count[doc_idx,topic]+=word_num\n",
    "    word_topic_count[word_idx,topic]+=word_num\n",
    "    \n",
    "    "
   ]
  },
  {
   "cell_type": "code",
   "execution_count": 151,
   "metadata": {},
   "outputs": [
    {
     "name": "stdout",
     "output_type": "stream",
     "text": [
      "第1轮训练开始\n",
      "开始计算complexity\n",
      "第1轮训练结束,loss:3206.276425718486,耗时:74.53458523750305\n",
      "第2轮训练开始\n",
      "开始计算complexity\n",
      "第2轮训练结束,loss:3187.2323658212913,耗时:79.67385578155518\n",
      "第3轮训练开始\n",
      "开始计算complexity\n",
      "第3轮训练结束,loss:3153.7885798732623,耗时:75.42496681213379\n",
      "第4轮训练开始\n",
      "开始计算complexity\n",
      "第4轮训练结束,loss:3097.1885274535966,耗时:74.39279699325562\n",
      "第5轮训练开始\n",
      "开始计算complexity\n",
      "第5轮训练结束,loss:3001.549374157444,耗时:76.55268359184265\n",
      "第6轮训练开始\n",
      "开始计算complexity\n",
      "第6轮训练结束,loss:2862.980887718221,耗时:82.87169146537781\n",
      "第7轮训练开始\n",
      "开始计算complexity\n",
      "第7轮训练结束,loss:2715.261048307174,耗时:75.9297845363617\n",
      "第8轮训练开始\n",
      "开始计算complexity\n",
      "第8轮训练结束,loss:2597.775292457261,耗时:76.46392965316772\n",
      "第9轮训练开始\n",
      "开始计算complexity\n",
      "第9轮训练结束,loss:2515.167382424756,耗时:71.53588485717773\n",
      "第10轮训练开始\n",
      "开始计算complexity\n",
      "第10轮训练结束,loss:2457.092866664009,耗时:73.98675537109375\n",
      "第11轮训练开始\n",
      "开始计算complexity\n",
      "第11轮训练结束,loss:2414.1583020288767,耗时:68.99713659286499\n",
      "第12轮训练开始\n",
      "开始计算complexity\n",
      "第12轮训练结束,loss:2381.978481451858,耗时:71.11856317520142\n",
      "第13轮训练开始\n",
      "开始计算complexity\n",
      "第13轮训练结束,loss:2356.68878815219,耗时:68.8812665939331\n",
      "第14轮训练开始\n",
      "开始计算complexity\n",
      "第14轮训练结束,loss:2337.8632746493063,耗时:76.53216791152954\n",
      "第15轮训练开始\n",
      "开始计算complexity\n",
      "第15轮训练结束,loss:2322.878375375627,耗时:69.58044910430908\n",
      "第16轮训练开始\n",
      "开始计算complexity\n",
      "第16轮训练结束,loss:2311.165561168052,耗时:73.24012398719788\n",
      "第17轮训练开始\n",
      "开始计算complexity\n",
      "第17轮训练结束,loss:2301.440634861865,耗时:71.7512092590332\n",
      "第18轮训练开始\n",
      "开始计算complexity\n",
      "第18轮训练结束,loss:2292.8658128317,耗时:82.6594672203064\n",
      "第19轮训练开始\n",
      "开始计算complexity\n",
      "第19轮训练结束,loss:2286.220846351615,耗时:71.268545627594\n"
     ]
    }
   ],
   "source": [
    "#更新z\n",
    "loss_l = []\n",
    "for it in range(1,20):\n",
    "    start = time.time()\n",
    "    nt = []\n",
    "    print('第{}轮训练开始'.format(it))\n",
    "    for ((doc_idx,word_idx,word_num),topic) in zip(res,topic_att):\n",
    "            \n",
    "\n",
    "        doc_topic_count[doc_idx,topic]-=1 #词在各topic的数量\n",
    "        word_topic_count[word_idx,topic]-=1 #每个doc中topic的总数\n",
    "        doc_word_sum[doc_idx]-=1 #nwsum 每个topic词的总数\n",
    "        topic_word_sum[topic]-=1 #每个doc中词的总数\n",
    "\n",
    "        topic_doc =  (doc_topic_count[doc_idx]+alpha)/(doc_word_sum[doc_idx] + k*alpha) #\n",
    "        word_topic = (word_topic_count[word_idx]+beta)/(topic_word_sum+ top_words_num*beta )\n",
    "        prob = topic_doc*word_topic\n",
    "        prob = prob/sum(prob)\n",
    "\n",
    "        new_topic = np.random.multinomial(1,prob,size=1)[0].argmax()\n",
    "\n",
    "        doc_topic_count[doc_idx,new_topic]+=1 #词在各topic的数量\n",
    "        word_topic_count[word_idx,new_topic]+=1 #每个doc中topic的总数\n",
    "        doc_word_sum[doc_idx]+=1 #nwsum 每个topic词的总数\n",
    "        topic_word_sum[new_topic]+=1 #每个doc中词的总数\n",
    "        \n",
    "        nt.append(new_topic)\n",
    "        \n",
    "    topic_att = nt\n",
    "    print('开始计算complexity')\n",
    "    error_sum = 0\n",
    "    doc_pb = (doc_topic_count + alpha) / (doc_word_sum + k*alpha).reshape(-1,1)[0]\n",
    "    word_pb = (word_topic_count + beta) / (topic_word_sum +top_words_num*beta)\n",
    "    for doc_idx,word_idx,word_num in res:\n",
    "        error_sum+=np.log(np.sum(doc_pb[doc_idx] * word_pb[word_idx]))\n",
    "    loss = np.exp(-error_sum/len(res))\n",
    "    duration =time.time() - start\n",
    "    loss_l.append(loss)\n",
    "    print (\"第{}轮训练结束,loss:{},耗时:{}\".format(it,loss,duration))\n",
    "        \n",
    " \n",
    "         "
   ]
  },
  {
   "cell_type": "code",
   "execution_count": 92,
   "metadata": {},
   "outputs": [
    {
     "name": "stdout",
     "output_type": "stream",
     "text": [
      "7794466.944968274\n",
      "7379401.164005599\n"
     ]
    },
    {
     "ename": "KeyboardInterrupt",
     "evalue": "",
     "output_type": "error",
     "traceback": [
      "\u001b[1;31m---------------------------------------------------------------------------\u001b[0m",
      "\u001b[1;31mKeyboardInterrupt\u001b[0m                         Traceback (most recent call last)",
      "\u001b[1;32m<ipython-input-92-e954f123af7a>\u001b[0m in \u001b[0;36m<module>\u001b[1;34m()\u001b[0m\n\u001b[0;32m     18\u001b[0m             \u001b[0mprob\u001b[0m \u001b[1;33m=\u001b[0m \u001b[0mprob\u001b[0m\u001b[1;33m/\u001b[0m\u001b[0msum\u001b[0m\u001b[1;33m(\u001b[0m\u001b[0mprob\u001b[0m\u001b[1;33m)\u001b[0m\u001b[1;33m\u001b[0m\u001b[0m\n\u001b[0;32m     19\u001b[0m \u001b[1;33m\u001b[0m\u001b[0m\n\u001b[1;32m---> 20\u001b[1;33m             \u001b[0mnew_topic\u001b[0m \u001b[1;33m=\u001b[0m \u001b[0mnp\u001b[0m\u001b[1;33m.\u001b[0m\u001b[0mrandom\u001b[0m\u001b[1;33m.\u001b[0m\u001b[0mmultinomial\u001b[0m\u001b[1;33m(\u001b[0m\u001b[1;36m1\u001b[0m\u001b[1;33m,\u001b[0m\u001b[0mprob\u001b[0m\u001b[1;33m,\u001b[0m\u001b[0msize\u001b[0m\u001b[1;33m=\u001b[0m\u001b[1;36m1\u001b[0m\u001b[1;33m)\u001b[0m\u001b[1;33m[\u001b[0m\u001b[1;36m0\u001b[0m\u001b[1;33m]\u001b[0m\u001b[1;33m.\u001b[0m\u001b[0margmax\u001b[0m\u001b[1;33m(\u001b[0m\u001b[1;33m)\u001b[0m\u001b[1;33m\u001b[0m\u001b[0m\n\u001b[0m\u001b[0;32m     21\u001b[0m \u001b[1;33m\u001b[0m\u001b[0m\n\u001b[0;32m     22\u001b[0m             \u001b[0mnw\u001b[0m\u001b[1;33m[\u001b[0m\u001b[0mword\u001b[0m\u001b[1;33m]\u001b[0m\u001b[1;33m[\u001b[0m\u001b[0mnew_topic\u001b[0m\u001b[1;33m]\u001b[0m\u001b[1;33m+=\u001b[0m\u001b[1;36m1\u001b[0m\u001b[1;33m\u001b[0m\u001b[0m\n",
      "\u001b[1;31mKeyboardInterrupt\u001b[0m: "
     ]
    }
   ],
   "source": [
    "# #更新z\n",
    "# for it in range(10):\n",
    "#     for doc_index in range(n):\n",
    "#         for word_index in range(len(z[doc_index])):\n",
    "            \n",
    "#             topic = z[doc_index][word_index] #取出该位置原来的topic\n",
    "#             word = bag[doc_index][word_index] # 该位置的word\n",
    "            \n",
    "#             nw[word][topic]-=1 #词在各topic的数量\n",
    "#             nd[doc_index][topic]-=1 #每个doc中topic的总数\n",
    "#             nwsum[topic]-=1 #nwsum 每个topic词的总数\n",
    "#             ndsum[doc_index]-=1 #每个doc中词的总数\n",
    "\n",
    "#             topic_doc =  (nd[doc_index]+alpha)/(ndsum[doc_index] + k*alpha) #\n",
    "#             word_topic = (nw[word]+beta)/(nwsum + top_words_num*beta )\n",
    "#             prob = topic_doc*word_topic\n",
    "\n",
    "#             prob = prob/sum(prob)\n",
    "            \n",
    "#             new_topic = np.random.multinomial(1,prob,size=1)[0].argmax()\n",
    "\n",
    "#             nw[word][new_topic]+=1\n",
    "#             nd[doc_index][new_topic]+=1\n",
    "#             nwsum[new_topic]+=1\n",
    "#             ndsum[doc_index]+=1\n",
    "            \n",
    "#             z[doc_index][word_index] = new_topic #更新topic\n",
    "         \n",
    "#     theta_res = (nd + alpha)/(ndsum.reshape(-1,1)+k*alpha) #probability of each document\n",
    "#     phi_res = (nw.T + beta) / (nwsum.reshape(-1,1)+top_words_num*beta) #probability of each word given topic\n",
    "#     likelihood = [np.sum(theta_res[a] * phi_res[:,b]) ** c for a,b,c in data_test]\n",
    "#     df = pd.DataFrame(data = likelihood,columns=['likelihood'])\n",
    "#     df['label'] = data_test[:,0]\n",
    "#     df['log'] = np.log(df['likelihood'])\n",
    "#     loss = np.sum(df.groupby('label')['log'].sum())\n",
    "#     loss = np.exp(-loss/len(data_test))\n",
    "#     p.append(loss)\n",
    "#     print (loss)"
   ]
  },
  {
   "cell_type": "code",
   "execution_count": 51,
   "metadata": {},
   "outputs": [
    {
     "data": {
      "image/png": "[encoded data removed]",
      "text/plain": [
       "<Figure size 432x288 with 1 Axes>"
      ]
     },
     "metadata": {},
     "output_type": "display_data"
    }
   ],
   "source": [
    "sns.set()\n",
    "plt.plot(p)\n",
    "plt.show()"
   ]
  },
  {
   "cell_type": "code",
   "execution_count": 155,
   "metadata": {},
   "outputs": [
    {
     "data": {
      "text/plain": [
       "[<matplotlib.lines.Line2D at 0x21987f997b8>]"
      ]
     },
     "execution_count": 155,
     "metadata": {},
     "output_type": "execute_result"
    },
    {
     "data": {
      "image/png": "[encoded data removed]",
      "text/plain": [
       "<Figure size 432x288 with 1 Axes>"
      ]
     },
     "metadata": {},
     "output_type": "display_data"
    }
   ],
   "source": [
    "plt.plot(loss_l)"
   ]
  },
  {
   "cell_type": "code",
   "execution_count": null,
   "metadata": {},
   "outputs": [],
   "source": [
    "import scipy.io as scio\n",
    " \n",
    "dataFile = '..//data.mat'\n",
    "data = scio.loadmat(dataFile)"
   ]
  },
  {
   "cell_type": "code",
   "execution_count": 2,
   "metadata": {},
   "outputs": [],
   "source": [
    "import os\n",
    "os.chdir('DirBN-master/data')"
   ]
  },
  {
   "cell_type": "code",
   "execution_count": 5,
   "metadata": {},
   "outputs": [],
   "source": [
    "import scipy.io as scio\n",
    "from scipy.sparse import csc_matrix\n",
    "from scipy import sparse\n",
    "import numpy as np\n",
    "dataFile = 'TMN.mat'\n",
    "data = scio.loadmat(dataFile)"
   ]
  },
  {
   "cell_type": "code",
   "execution_count": 10,
   "metadata": {},
   "outputs": [],
   "source": [
    "dat = data['x'].toarray()\n",
    "a,b = np.where(dat>0)\n",
    "kk = np.zeros((len(a),3),dtype='int')\n",
    "kk[:,0] = a\n",
    "kk[:,1] = b    \n",
    "dd = []\n",
    "for (word_idx,doc_idx) in zip(a,b):\n",
    "    dd.append(dat[word_idx,doc_idx])\n",
    "kk[:,-1] = dd  "
   ]
  },
  {
   "cell_type": "code",
   "execution_count": 22,
   "metadata": {},
   "outputs": [
    {
     "data": {
      "text/plain": [
       "array([[    0,     0,     1],\n",
       "       [    0,     7,     2],\n",
       "       [    0,     8,     2],\n",
       "       ...,\n",
       "       [13369, 28352,     1],\n",
       "       [13369, 29157,     2],\n",
       "       [13369, 31593,     2]])"
      ]
     },
     "execution_count": 22,
     "metadata": {},
     "output_type": "execute_result"
    }
   ],
   "source": [
    "res = []\n",
    "for vec in kk:\n",
    "    if vec[-1] ==1:\n",
    "        res.append(vec)\n",
    "    else:\n",
    "        new_vec = vec.copy()\n",
    "        new_vec[-1]=1\n",
    "        for _ in range(vec[-1]):\n",
    "            res.append(new_vec)"
   ]
  },
  {
   "cell_type": "code",
   "execution_count": null,
   "metadata": {},
   "outputs": [],
   "source": []
  }
 ],
 "metadata": {
  "kernelspec": {
   "display_name": "Python 3",
   "language": "python",
   "name": "python3"
  },
  "language_info": {
   "codemirror_mode": {
    "name": "ipython",
    "version": 3
   },
   "file_extension": ".py",
   "mimetype": "text/x-python",
   "name": "python",
   "nbconvert_exporter": "python",
   "pygments_lexer": "ipython3",
   "version": "3.6.4"
  }
 },
 "nbformat": 4,
 "nbformat_minor": 2
}
