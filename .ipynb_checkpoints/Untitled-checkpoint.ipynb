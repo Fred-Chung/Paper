{
 "cells": [
  {
   "cell_type": "code",
   "execution_count": 1,
   "metadata": {},
   "outputs": [],
   "source": [
    "import matplotlib.pyplot as plt\n",
    "import seaborn as sns\n",
    "import numpy as np"
   ]
  },
  {
   "cell_type": "code",
   "execution_count": 2,
   "metadata": {},
   "outputs": [],
   "source": [
    "l1  =[3445,2983,2728,2552,2430,2322,2220,2154,2080,2020,\n",
    "      1968,1907,1869,1835,1792,1771,1746,1713,1688,1669,\n",
    "      1649,1629,1623,1591,1573,1558,1542,1525,1515,1503,\n",
    "      1492,1474,1468,1444,1438,1431,1423,1411,1397]"
   ]
  },
  {
   "cell_type": "code",
   "execution_count": null,
   "metadata": {},
   "outputs": [],
   "source": [
    "l2 = [3400,2931,2670,2493,2363,2257,2155,2080,2013,1953,\n",
    "     1902,1859,1821,1788,1754,1728,1698,1685,1661,1649,\n",
    "     1626,1609,1584,1563,1554,1532,1527,1511,1497,1491,\n",
    "     1478,1462,1452,1439,1428,1417,1408,1399,1393]"
   ]
  }
 ],
 "metadata": {
  "kernelspec": {
   "display_name": "Python 3",
   "language": "python",
   "name": "python3"
  },
  "language_info": {
   "codemirror_mode": {
    "name": "ipython",
    "version": 3
   },
   "file_extension": ".py",
   "mimetype": "text/x-python",
   "name": "python",
   "nbconvert_exporter": "python",
   "pygments_lexer": "ipython3",
   "version": "3.7.6"
  }
 },
 "nbformat": 4,
 "nbformat_minor": 4
}
